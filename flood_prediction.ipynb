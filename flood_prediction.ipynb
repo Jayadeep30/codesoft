{
  "nbformat": 4,
  "nbformat_minor": 0,
  "metadata": {
    "colab": {
      "provenance": [],
      "authorship_tag": "ABX9TyODoAtgCwYtSmJCaXZuAZeB",
      "include_colab_link": true
    },
    "kernelspec": {
      "name": "python3",
      "display_name": "Python 3"
    },
    "language_info": {
      "name": "python"
    }
  },
  "cells": [
    {
      "cell_type": "markdown",
      "metadata": {
        "id": "view-in-github",
        "colab_type": "text"
      },
      "source": [
        "<a href=\"https://colab.research.google.com/github/Jayadeep30/codesoft/blob/main/flood_prediction.ipynb\" target=\"_parent\"><img src=\"https://colab.research.google.com/assets/colab-badge.svg\" alt=\"Open In Colab\"/></a>"
      ]
    },
    {
      "cell_type": "code",
      "source": [
        "from google.colab import drive\n",
        "drive.mount('/content/drive')"
      ],
      "metadata": {
        "colab": {
          "base_uri": "https://localhost:8080/"
        },
        "id": "aUUX9aC9HuXK",
        "outputId": "01198409-a6c1-42b7-f057-887d1785b80b"
      },
      "execution_count": null,
      "outputs": [
        {
          "output_type": "stream",
          "name": "stdout",
          "text": [
            "Mounted at /content/drive\n"
          ]
        }
      ]
    },
    {
      "cell_type": "code",
      "source": [
        "import numpy as np\n",
        "import pandas as pd\n",
        "dataset=pd.read_csv('/content/drive/MyDrive/flood.csv')\n",
        "print(dataset)\n",
        "rows, cols=dataset.shape\n",
        "print(f\"the dataset contains {rows} rows and {cols} columns:\")"
      ],
      "metadata": {
        "colab": {
          "base_uri": "https://localhost:8080/"
        },
        "id": "OKhVNWdQH-1-",
        "outputId": "ed7757e7-27fd-4ccd-e193-397e9e2595cf"
      },
      "execution_count": null,
      "outputs": [
        {
          "output_type": "stream",
          "name": "stdout",
          "text": [
            "       MonsoonIntensity  TopographyDrainage  RiverManagement  Deforestation  \\\n",
            "0                     3                   8                6              6   \n",
            "1                     8                   4                5              7   \n",
            "2                     3                  10                4              1   \n",
            "3                     4                   4                2              7   \n",
            "4                     3                   7                5              2   \n",
            "...                 ...                 ...              ...            ...   \n",
            "49995                 3                   7                4              7   \n",
            "49996                 3                  10                3              8   \n",
            "49997                 4                   4                5              7   \n",
            "49998                 4                   5                4              4   \n",
            "49999                 4                   5                6              3   \n",
            "\n",
            "       Urbanization  ClimateChange  DamsQuality  Siltation  \\\n",
            "0                 4              4            6          2   \n",
            "1                 7              9            1          5   \n",
            "2                 7              5            4          7   \n",
            "3                 3              4            1          4   \n",
            "4                 5              8            5          2   \n",
            "...             ...            ...          ...        ...   \n",
            "49995             5              9            4          6   \n",
            "49996             3              3            4          4   \n",
            "49997             2              1            4          5   \n",
            "49998             6              3           10          2   \n",
            "49999             5              6            5          4   \n",
            "\n",
            "       AgriculturalPractices  Encroachments  ...  DrainageSystems  \\\n",
            "0                          3              2  ...               10   \n",
            "1                          5              4  ...                9   \n",
            "2                          4              9  ...                7   \n",
            "3                          6              4  ...                4   \n",
            "4                          7              5  ...                7   \n",
            "...                      ...            ...  ...              ...   \n",
            "49995                     10              4  ...                7   \n",
            "49996                      3             11  ...                8   \n",
            "49997                      6              7  ...                4   \n",
            "49998                      6             11  ...                6   \n",
            "49999                      9             10  ...                2   \n",
            "\n",
            "       CoastalVulnerability  Landslides  Watersheds  \\\n",
            "0                         7           4           2   \n",
            "1                         2           6           2   \n",
            "2                         4           4           8   \n",
            "3                         2           6           6   \n",
            "4                         6           5           3   \n",
            "...                     ...         ...         ...   \n",
            "49995                     3           8           8   \n",
            "49996                     6           3           6   \n",
            "49997                     6           4           1   \n",
            "49998                     3           4           7   \n",
            "49999                     4           4           5   \n",
            "\n",
            "       DeterioratingInfrastructure  PopulationScore  WetlandLoss  \\\n",
            "0                                3                4            3   \n",
            "1                                1                1            9   \n",
            "2                                6                1            8   \n",
            "3                                8                8            6   \n",
            "4                                3                4            4   \n",
            "...                            ...              ...          ...   \n",
            "49995                            6                1            5   \n",
            "49996                            4                4            2   \n",
            "49997                            5                1            6   \n",
            "49998                            6                2            4   \n",
            "49999                            6                7            8   \n",
            "\n",
            "       InadequatePlanning  PoliticalFactors  FloodProbability  \n",
            "0                       2                 6             0.450  \n",
            "1                       1                 3             0.475  \n",
            "2                       3                 6             0.515  \n",
            "3                       6                10             0.520  \n",
            "4                       3                 4             0.475  \n",
            "...                   ...               ...               ...  \n",
            "49995                   4                 2             0.535  \n",
            "49996                   4                 5             0.510  \n",
            "49997                   4                 3             0.430  \n",
            "49998                   0                11             0.515  \n",
            "49999                  10                 7             0.580  \n",
            "\n",
            "[50000 rows x 21 columns]\n",
            "the dataset contains 50000 rows and 21 columns:\n"
          ]
        }
      ]
    },
    {
      "cell_type": "code",
      "source": [
        "missing_values = dataset.isnull().sum()\n",
        "print(\"Missing values in each column:\")\n",
        "print(missing_values)\n",
        "if missing_values.sum() == 0:\n",
        "    print(\"No missing values in the dataset.\")\n",
        "else:\n",
        "    print(f\"Total missing values: {missing_values.sum()}\")\n"
      ],
      "metadata": {
        "colab": {
          "base_uri": "https://localhost:8080/"
        },
        "id": "ZAZMW5E3KbEr",
        "outputId": "c38de486-af1f-4684-fb3a-e4d700184c9c"
      },
      "execution_count": null,
      "outputs": [
        {
          "output_type": "stream",
          "name": "stdout",
          "text": [
            "Missing values in each column:\n",
            "MonsoonIntensity                   0\n",
            "TopographyDrainage                 0\n",
            "RiverManagement                    0\n",
            "Deforestation                      0\n",
            "Urbanization                       0\n",
            "ClimateChange                      0\n",
            "DamsQuality                        0\n",
            "Siltation                          0\n",
            "AgriculturalPractices              0\n",
            "Encroachments                      0\n",
            "IneffectiveDisasterPreparedness    0\n",
            "DrainageSystems                    0\n",
            "CoastalVulnerability               0\n",
            "Landslides                         0\n",
            "Watersheds                         0\n",
            "DeterioratingInfrastructure        0\n",
            "PopulationScore                    0\n",
            "WetlandLoss                        0\n",
            "InadequatePlanning                 0\n",
            "PoliticalFactors                   0\n",
            "FloodProbability                   0\n",
            "dtype: int64\n",
            "No missing values in the dataset.\n"
          ]
        }
      ]
    },
    {
      "cell_type": "code",
      "source": [
        "x=dataset.iloc[:,:-1]\n",
        "y=dataset.iloc[:,-1]\n",
        "print(x.head())\n",
        "print(y.head())"
      ],
      "metadata": {
        "colab": {
          "base_uri": "https://localhost:8080/"
        },
        "id": "XRPCB_O_LjK5",
        "outputId": "69ab207b-9a55-46de-cfab-128e2ba6e3f9"
      },
      "execution_count": null,
      "outputs": [
        {
          "output_type": "stream",
          "name": "stdout",
          "text": [
            "   MonsoonIntensity  TopographyDrainage  RiverManagement  Deforestation  \\\n",
            "0                 3                   8                6              6   \n",
            "1                 8                   4                5              7   \n",
            "2                 3                  10                4              1   \n",
            "3                 4                   4                2              7   \n",
            "4                 3                   7                5              2   \n",
            "\n",
            "   Urbanization  ClimateChange  DamsQuality  Siltation  AgriculturalPractices  \\\n",
            "0             4              4            6          2                      3   \n",
            "1             7              9            1          5                      5   \n",
            "2             7              5            4          7                      4   \n",
            "3             3              4            1          4                      6   \n",
            "4             5              8            5          2                      7   \n",
            "\n",
            "   Encroachments  IneffectiveDisasterPreparedness  DrainageSystems  \\\n",
            "0              2                                5               10   \n",
            "1              4                                6                9   \n",
            "2              9                                2                7   \n",
            "3              4                                9                4   \n",
            "4              5                                7                7   \n",
            "\n",
            "   CoastalVulnerability  Landslides  Watersheds  DeterioratingInfrastructure  \\\n",
            "0                     7           4           2                            3   \n",
            "1                     2           6           2                            1   \n",
            "2                     4           4           8                            6   \n",
            "3                     2           6           6                            8   \n",
            "4                     6           5           3                            3   \n",
            "\n",
            "   PopulationScore  WetlandLoss  InadequatePlanning  PoliticalFactors  \n",
            "0                4            3                   2                 6  \n",
            "1                1            9                   1                 3  \n",
            "2                1            8                   3                 6  \n",
            "3                8            6                   6                10  \n",
            "4                4            4                   3                 4  \n",
            "0    0.450\n",
            "1    0.475\n",
            "2    0.515\n",
            "3    0.520\n",
            "4    0.475\n",
            "Name: FloodProbability, dtype: float64\n"
          ]
        }
      ]
    },
    {
      "cell_type": "code",
      "source": [
        "from sklearn.model_selection import train_test_split\n",
        "from sklearn.preprocessing import StandardScaler\n",
        "x_train,x_test,y_train,y_test=train_test_split(x,y,test_size=0.2,random_state=42)\n",
        "scaler=StandardScaler()\n",
        "x_train_scaled=scaler.fit_transform(x_train)\n",
        "x_test_scaled=scaler.transform(x_test)\n",
        "print(x_train_scaled)\n",
        "print(x_test_scaled)"
      ],
      "metadata": {
        "colab": {
          "base_uri": "https://localhost:8080/"
        },
        "id": "IY9YzY87MHE0",
        "outputId": "656b4d68-c5cb-4774-b40d-a890b9b27955"
      },
      "execution_count": null,
      "outputs": [
        {
          "output_type": "stream",
          "name": "stdout",
          "text": [
            "[[-8.88943988e-01 -8.85523803e-01  4.47350521e-01 ... -8.97768203e-01\n",
            "  -4.45117683e-01  5.00320123e-04]\n",
            " [ 6.08620532e-03  3.81303168e-03  4.47350521e-01 ... -4.48912155e-01\n",
            "  -1.78846364e+00  5.00320123e-04]\n",
            " [ 9.01116399e-01 -8.85523803e-01 -4.52547432e-01 ...  1.34651204e+00\n",
            "  -4.45117683e-01  8.89958316e-01]\n",
            " ...\n",
            " [-8.88943988e-01  1.33781828e+00 -1.35244539e+00 ... -5.61070060e-05\n",
            "   4.50446289e-01 -4.44228678e-01]\n",
            " [ 1.34863150e+00  4.48481449e-01 -9.02496409e-01 ...  4.48799941e-01\n",
            "   2.24157423e+00 -4.44228678e-01]\n",
            " [-4.41428891e-01  2.22715512e+00  1.34724847e+00 ...  1.79536808e+00\n",
            "  -4.45117683e-01  5.00320123e-04]]\n",
            "[[ 9.01116399e-01 -8.85523803e-01 -4.52547432e-01 ... -5.61070060e-05\n",
            "   2.66430281e-03 -8.88957676e-01]\n",
            " [-4.41428891e-01  8.93149867e-01  8.97299498e-01 ... -8.97768203e-01\n",
            "  -1.34068165e+00 -4.44228678e-01]\n",
            " [-1.33645908e+00 -8.85523803e-01 -9.02496409e-01 ... -5.61070060e-05\n",
            "   8.98228274e-01 -8.88957676e-01]\n",
            " ...\n",
            " [ 9.01116399e-01 -8.85523803e-01 -4.52547432e-01 ... -5.61070060e-05\n",
            "   2.66430281e-03  5.00320123e-04]\n",
            " [ 6.08620532e-03 -8.85523803e-01 -4.52547432e-01 ... -5.61070060e-05\n",
            "   1.79379225e+00  4.45229318e-01]\n",
            " [ 6.08620532e-03 -1.33019222e+00 -9.02496409e-01 ...  4.48799941e-01\n",
            "  -1.34068165e+00  5.00320123e-04]]\n"
          ]
        }
      ]
    },
    {
      "cell_type": "code",
      "source": [],
      "metadata": {
        "id": "gY9XZwj-ylwK"
      },
      "execution_count": null,
      "outputs": []
    },
    {
      "cell_type": "code",
      "source": [
        "from sklearn.ensemble import RandomForestRegressor\n",
        "from sklearn.metrics import mean_squared_error, r2_score\n",
        "\n",
        "rf_regressor = RandomForestRegressor(n_estimators=100, random_state=42)\n",
        "\n",
        "#Train the model\n",
        "regressor = rf_regressor.fit(x_train_scaled, y_train)\n",
        "\n",
        "# Make predictions\n",
        "y_pred = rf_regressor.predict(x_test_scaled)\n",
        "\n",
        "# Evaluate the model using appropriate metrics for regression\n",
        "mse = mean_squared_error(y_test, y_pred)\n",
        "r2 = r2_score(y_test, y_pred)\n",
        "\n",
        "print(\"Mean Squared Error:\", mse)\n",
        "print(\"R-squared:\", r2)"
      ],
      "metadata": {
        "colab": {
          "base_uri": "https://localhost:8080/"
        },
        "id": "eJRaTu_AOgqk",
        "outputId": "c3944fa0-2cf0-4667-da8c-b8174e94bb84"
      },
      "execution_count": null,
      "outputs": [
        {
          "output_type": "stream",
          "name": "stdout",
          "text": [
            "Mean Squared Error: 0.0006710998077500004\n",
            "R-squared: 0.7305453910052718\n"
          ]
        }
      ]
    }
  ]
}