{
  "nbformat": 4,
  "nbformat_minor": 0,
  "metadata": {
    "colab": {
      "provenance": [],
      "mount_file_id": "1qm-pdAyRAFk_1cMvVODi6IsefMseV8A4",
      "authorship_tag": "ABX9TyOOj2+47wcJJcGah/hF9FSL",
      "include_colab_link": true
    },
    "kernelspec": {
      "name": "python3",
      "display_name": "Python 3"
    },
    "language_info": {
      "name": "python"
    }
  },
  "cells": [
    {
      "cell_type": "markdown",
      "metadata": {
        "id": "view-in-github",
        "colab_type": "text"
      },
      "source": [
        "<a href=\"https://colab.research.google.com/github/Jayadeep30/machine-learning-projects/blob/main/flood_prediction(XGBoost).ipynb\" target=\"_parent\"><img src=\"https://colab.research.google.com/assets/colab-badge.svg\" alt=\"Open In Colab\"/></a>"
      ]
    },
    {
      "cell_type": "markdown",
      "source": [
        "#mount the drive"
      ],
      "metadata": {
        "id": "RtARJfY6WpMD"
      }
    },
    {
      "cell_type": "code",
      "source": [
        "from google.colab import drive\n",
        "drive.mount('/content/drive')"
      ],
      "metadata": {
        "colab": {
          "base_uri": "https://localhost:8080/"
        },
        "id": "qXTl5w89VpNE",
        "outputId": "208ba251-1fa6-4e39-b22e-03f23a9de6a5"
      },
      "execution_count": 14,
      "outputs": [
        {
          "output_type": "stream",
          "name": "stdout",
          "text": [
            "Drive already mounted at /content/drive; to attempt to forcibly remount, call drive.mount(\"/content/drive\", force_remount=True).\n"
          ]
        }
      ]
    },
    {
      "cell_type": "markdown",
      "source": [
        "#import necessary libraries"
      ],
      "metadata": {
        "id": "1qWHYFuHWuFB"
      }
    },
    {
      "cell_type": "code",
      "execution_count": 21,
      "metadata": {
        "id": "A0d-EHcHOQr9"
      },
      "outputs": [],
      "source": [
        "import pandas as pd\n",
        "import numpy as np\n",
        "from sklearn.model_selection import train_test_split\n",
        "from xgboost import XGBRegressor\n",
        "from sklearn.metrics import mean_squared_error, r2_score\n",
        "import matplotlib.pyplot as plt"
      ]
    },
    {
      "cell_type": "markdown",
      "source": [
        "# Load your flood prediction dataset"
      ],
      "metadata": {
        "id": "gTJN5u_oXEpW"
      }
    },
    {
      "cell_type": "code",
      "source": [
        "data=pd.read_csv('/content/drive/MyDrive/flood.csv')\n",
        "print(data.head())"
      ],
      "metadata": {
        "colab": {
          "base_uri": "https://localhost:8080/"
        },
        "id": "l2ZJejcvQ5_6",
        "outputId": "5ff52b55-810b-4d93-8d45-561af65827c7"
      },
      "execution_count": 20,
      "outputs": [
        {
          "output_type": "stream",
          "name": "stdout",
          "text": [
            "   MonsoonIntensity  TopographyDrainage  ...  PoliticalFactors  FloodProbability\n",
            "0                 3                   8  ...                 6             0.450\n",
            "1                 8                   4  ...                 3             0.475\n",
            "2                 3                  10  ...                 6             0.515\n",
            "3                 4                   4  ...                10             0.520\n",
            "4                 3                   7  ...                 4             0.475\n",
            "\n",
            "[5 rows x 21 columns]\n"
          ]
        }
      ]
    },
    {
      "cell_type": "markdown",
      "source": [
        "#chesck for missing values"
      ],
      "metadata": {
        "id": "HZpPKWCEXJP8"
      }
    },
    {
      "cell_type": "code",
      "source": [
        "missing_values = data.isnull().sum()\n",
        "print(\"Missing values in each column:\")\n",
        "print(missing_values)\n",
        "if missing_values.sum() == 0:\n",
        "    print(\"No missing values in the dataset.\")\n",
        "else:\n",
        "    print(f\"Total missing values: {missing_values.sum()}\")"
      ],
      "metadata": {
        "colab": {
          "base_uri": "https://localhost:8080/"
        },
        "id": "CNd8G-PPVH2M",
        "outputId": "8c8a3ab1-577b-4b91-df8f-213eba55bcf6"
      },
      "execution_count": 17,
      "outputs": [
        {
          "output_type": "stream",
          "name": "stdout",
          "text": [
            "Missing values in each column:\n",
            "MonsoonIntensity                   0\n",
            "TopographyDrainage                 0\n",
            "RiverManagement                    0\n",
            "Deforestation                      0\n",
            "Urbanization                       0\n",
            "ClimateChange                      0\n",
            "DamsQuality                        0\n",
            "Siltation                          0\n",
            "AgriculturalPractices              0\n",
            "Encroachments                      0\n",
            "IneffectiveDisasterPreparedness    0\n",
            "DrainageSystems                    0\n",
            "CoastalVulnerability               0\n",
            "Landslides                         0\n",
            "Watersheds                         0\n",
            "DeterioratingInfrastructure        0\n",
            "PopulationScore                    0\n",
            "WetlandLoss                        0\n",
            "InadequatePlanning                 0\n",
            "PoliticalFactors                   0\n",
            "FloodProbability                   0\n",
            "dtype: int64\n",
            "No missing values in the dataset.\n"
          ]
        }
      ]
    },
    {
      "cell_type": "markdown",
      "source": [
        "#check for duplicated rows"
      ],
      "metadata": {
        "id": "SKD7RLdWXNEB"
      }
    },
    {
      "cell_type": "code",
      "source": [
        "duplicate_rows = data[data.duplicated()]\n",
        "print(f\"Number of duplicated rows: {duplicate_rows.shape[0]}\")"
      ],
      "metadata": {
        "colab": {
          "base_uri": "https://localhost:8080/"
        },
        "id": "HoqERew9WB1E",
        "outputId": "7cbdc62a-4033-46cd-ea97-1b0d4c00f951"
      },
      "execution_count": 19,
      "outputs": [
        {
          "output_type": "stream",
          "name": "stdout",
          "text": [
            "Number of duplicated rows: 0\n"
          ]
        }
      ]
    },
    {
      "cell_type": "markdown",
      "source": [
        "# Define the features (X) and target (y)"
      ],
      "metadata": {
        "id": "jyipuLq4XSDk"
      }
    },
    {
      "cell_type": "code",
      "source": [
        "x=data.iloc[:,:-1]\n",
        "y=data.iloc[:,-1]\n",
        "print(x.head())\n",
        "print(y.head())"
      ],
      "metadata": {
        "colab": {
          "base_uri": "https://localhost:8080/"
        },
        "id": "SUPddIWSRTKv",
        "outputId": "f285590e-525a-4fae-d0b8-e7eaabe0bf6c"
      },
      "execution_count": 18,
      "outputs": [
        {
          "output_type": "stream",
          "name": "stdout",
          "text": [
            "   MonsoonIntensity  TopographyDrainage  ...  InadequatePlanning  PoliticalFactors\n",
            "0                 3                   8  ...                   2                 6\n",
            "1                 8                   4  ...                   1                 3\n",
            "2                 3                  10  ...                   3                 6\n",
            "3                 4                   4  ...                   6                10\n",
            "4                 3                   7  ...                   3                 4\n",
            "\n",
            "[5 rows x 20 columns]\n",
            "0    0.450\n",
            "1    0.475\n",
            "2    0.515\n",
            "3    0.520\n",
            "4    0.475\n",
            "Name: FloodProbability, dtype: float64\n"
          ]
        }
      ]
    },
    {
      "cell_type": "markdown",
      "source": [
        "\n",
        "# Split the dataset into training and test sets"
      ],
      "metadata": {
        "id": "MbPKfJORXXxZ"
      }
    },
    {
      "cell_type": "code",
      "source": [
        "X_train,X_test,y_train,y_test=train_test_split(x,y,test_size=0.2,random_state=42)\n",
        "print(X_train.shape)\n",
        "print(X_test.shape)\n",
        "print(y_train.shape)\n",
        "print(y_test.shape)"
      ],
      "metadata": {
        "colab": {
          "base_uri": "https://localhost:8080/"
        },
        "id": "ErqTMgqOR7kn",
        "outputId": "fc2aebdc-1871-4755-b0ab-3ffedfe6efd8"
      },
      "execution_count": 23,
      "outputs": [
        {
          "output_type": "stream",
          "name": "stdout",
          "text": [
            "(40000, 20)\n",
            "(10000, 20)\n",
            "(40000,)\n",
            "(10000,)\n"
          ]
        }
      ]
    },
    {
      "cell_type": "markdown",
      "source": [
        "# Initialize the XGBoost Regressor"
      ],
      "metadata": {
        "id": "tKaGRBibXb6k"
      }
    },
    {
      "cell_type": "code",
      "source": [
        "xgboost_model=XGBRegressor(\n",
        "    objective='reg:squarederror',\n",
        "    n_estimators=100,\n",
        "    learning_rate=0.1,\n",
        "    max_depth=6,\n",
        "    subsample=0.8,\n",
        "    colsample_bytree=0.8,\n",
        "    random_state=42\n",
        ")"
      ],
      "metadata": {
        "id": "JSpcf6RbS6vN"
      },
      "execution_count": 24,
      "outputs": []
    },
    {
      "cell_type": "markdown",
      "source": [
        "\n",
        "# Train the model"
      ],
      "metadata": {
        "id": "_JWr11fBXexl"
      }
    },
    {
      "cell_type": "markdown",
      "source": [
        "\n",
        "# Make predictions on the test set"
      ],
      "metadata": {
        "id": "PdVYrXlMXjZB"
      }
    },
    {
      "cell_type": "code",
      "source": [
        "xgboost_model.fit(X_train,y_train)\n",
        "y_pred=xgboost_model.predict(X_test)"
      ],
      "metadata": {
        "id": "hI5NXwTeUL9_"
      },
      "execution_count": 25,
      "outputs": []
    },
    {
      "cell_type": "markdown",
      "source": [
        "# Evaluate the model"
      ],
      "metadata": {
        "id": "XNRomRDXXmjH"
      }
    },
    {
      "cell_type": "code",
      "source": [
        "mse=mean_squared_error(y_test,y_pred)\n",
        "r2=r2_score(y_test,y_pred)\n",
        "print(f\"Mean Squared Error (MSE): {mse}\")\n",
        "print(f\"R-squared (R2 Score): {r2}\")"
      ],
      "metadata": {
        "colab": {
          "base_uri": "https://localhost:8080/"
        },
        "id": "MGx4p3TfTnvp",
        "outputId": "bea06f72-b6dd-4047-929a-de584cc64427"
      },
      "execution_count": 26,
      "outputs": [
        {
          "output_type": "stream",
          "name": "stdout",
          "text": [
            "Mean Squared Error (MSE): 0.0002255418633008898\n",
            "R-squared (R2 Score): 0.909442241100562\n"
          ]
        }
      ]
    },
    {
      "cell_type": "markdown",
      "source": [
        "#plot the graph"
      ],
      "metadata": {
        "id": "xioaNUpGYVZU"
      }
    },
    {
      "cell_type": "code",
      "source": [
        "plt.figure(figsize=(8, 6))\n",
        "plt.scatter(y_test, y_pred, color='blue')\n",
        "plt.plot([min(y_test), max(y_test)], [min(y_test), max(y_test)], color='red', linestyle='--')  # Line for perfect prediction\n",
        "plt.title('Actual vs Predicted Flood Probability')\n",
        "plt.xlabel('Actual')\n",
        "plt.ylabel('Predicted')\n",
        "plt.show()\n"
      ],
      "metadata": {
        "colab": {
          "base_uri": "https://localhost:8080/",
          "height": 564
        },
        "id": "hGgqoyT_XsEw",
        "outputId": "05d5d724-0646-4fd1-f1aa-19d835054889"
      },
      "execution_count": 29,
      "outputs": [
        {
          "output_type": "display_data",
          "data": {
            "text/plain": [
              "<Figure size 800x600 with 1 Axes>"
            ],
            "image/png": "[encoded data removed]"
          },
          "metadata": {}
        }
      ]
    }
  ]
}